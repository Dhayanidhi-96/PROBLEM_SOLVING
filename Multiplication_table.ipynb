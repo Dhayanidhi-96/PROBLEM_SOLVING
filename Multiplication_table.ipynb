{
  "nbformat": 4,
  "nbformat_minor": 0,
  "metadata": {
    "colab": {
      "provenance": [],
      "authorship_tag": "ABX9TyNsrKfBuHXPxfGd+Pg3zE22",
      "include_colab_link": true
    },
    "kernelspec": {
      "name": "python3",
      "display_name": "Python 3"
    },
    "language_info": {
      "name": "python"
    }
  },
  "cells": [
    {
      "cell_type": "markdown",
      "metadata": {
        "id": "view-in-github",
        "colab_type": "text"
      },
      "source": [
        "<a href=\"https://colab.research.google.com/github/Dhayanidhi-96/PROBLEM_SOLVING/blob/main/Multiplication_table.ipynb\" target=\"_parent\"><img src=\"https://colab.research.google.com/assets/colab-badge.svg\" alt=\"Open In Colab\"/></a>"
      ]
    },
    {
      "cell_type": "markdown",
      "source": [
        "**Problem Description:**\n",
        "\n",
        "Take a number\n",
        "𝐴\n",
        "A as input, and print its multiplication table for the first 10 multiples.\n",
        "\n",
        "**Problem Constraints:**\n",
        "\n",
        "1 <= A <= 1000"
      ],
      "metadata": {
        "id": "V4YYyhkmv-dW"
      }
    },
    {
      "cell_type": "code",
      "execution_count": 9,
      "metadata": {
        "colab": {
          "base_uri": "https://localhost:8080/"
        },
        "id": "eRNkoFXLuClu",
        "outputId": "cb5f4696-9e22-4ca4-9281-875dcd2e3573"
      },
      "outputs": [
        {
          "output_type": "stream",
          "name": "stdout",
          "text": [
            "which multiplication table you want enter in numeric : 5\n",
            "5 x 1 = 5\n",
            "5 x 2 = 10\n",
            "5 x 3 = 15\n",
            "5 x 4 = 20\n",
            "5 x 5 = 25\n",
            "5 x 6 = 30\n",
            "5 x 7 = 35\n",
            "5 x 8 = 40\n",
            "5 x 9 = 45\n",
            "5 x 10 = 50\n"
          ]
        }
      ],
      "source": [
        "A = int(input(\"which multiplication table you want enter in numeric : \"))\n",
        "for i in range(1,11,1):\n",
        "  print(A,\"x\",i,\"=\",A*i)"
      ]
    }
  ]
}
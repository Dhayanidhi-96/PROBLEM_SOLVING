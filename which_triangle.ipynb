{
  "nbformat": 4,
  "nbformat_minor": 0,
  "metadata": {
    "colab": {
      "provenance": [],
      "authorship_tag": "ABX9TyPAMEGjFBWS4GveCf/RQK6J",
      "include_colab_link": true
    },
    "kernelspec": {
      "name": "python3",
      "display_name": "Python 3"
    },
    "language_info": {
      "name": "python"
    }
  },
  "cells": [
    {
      "cell_type": "markdown",
      "metadata": {
        "id": "view-in-github",
        "colab_type": "text"
      },
      "source": [
        "<a href=\"https://colab.research.google.com/github/Dhayanidhi-96/PROBLEM_SOLVING/blob/main/which_triangle.ipynb\" target=\"_parent\"><img src=\"https://colab.research.google.com/assets/colab-badge.svg\" alt=\"Open In Colab\"/></a>"
      ]
    },
    {
      "cell_type": "markdown",
      "source": [
        "**Problem Description**\n",
        "\n",
        "Write a program to input from user three numbers(A, B & C) representing side lengths of a triangle.\n",
        "\n",
        "You have to print if the traingle is \"equilateral\", \"scalene\" or \"isosceles\"."
      ],
      "metadata": {
        "id": "keUhHqMWn1qP"
      }
    },
    {
      "cell_type": "code",
      "execution_count": 8,
      "metadata": {
        "colab": {
          "base_uri": "https://localhost:8080/"
        },
        "id": "iuAWN4VbnyKX",
        "outputId": "bd7ea143-0070-4ed0-f0aa-ab5b562975b6"
      },
      "outputs": [
        {
          "output_type": "stream",
          "name": "stdout",
          "text": [
            "Enter your A value with space : 60\n",
            "Enter your B value with space : 60\n",
            "Enter your C value with space : 60\n",
            "The given Triangle is Equilateral\n"
          ]
        }
      ],
      "source": [
        "A = int(input(\"Enter your A value with space : \"))\n",
        "B = int(input(\"Enter your B value with space : \"))\n",
        "C = int(input(\"Enter your C value with space : \"))\n",
        "if A==B==C:\n",
        "  print(\"The given Triangle is Equilateral\")\n",
        "elif A==B or B==C or A==C:\n",
        "  print(\"The given Triangle is Isosceles\")\n",
        "else:\n",
        "  print(\"The given triangle is Scalence\")"
      ]
    },
    {
      "cell_type": "code",
      "source": [],
      "metadata": {
        "id": "wMNfC2aypSK5"
      },
      "execution_count": null,
      "outputs": []
    }
  ]
}
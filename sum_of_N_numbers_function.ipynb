{
  "nbformat": 4,
  "nbformat_minor": 0,
  "metadata": {
    "colab": {
      "provenance": [],
      "authorship_tag": "ABX9TyOLAKtAMNrbV7HwIOE6vAdY",
      "include_colab_link": true
    },
    "kernelspec": {
      "name": "python3",
      "display_name": "Python 3"
    },
    "language_info": {
      "name": "python"
    }
  },
  "cells": [
    {
      "cell_type": "markdown",
      "metadata": {
        "id": "view-in-github",
        "colab_type": "text"
      },
      "source": [
        "<a href=\"https://colab.research.google.com/github/Dhayanidhi-96/PROBLEM_SOLVING/blob/main/sum_of_N_numbers_function.ipynb\" target=\"_parent\"><img src=\"https://colab.research.google.com/assets/colab-badge.svg\" alt=\"Open In Colab\"/></a>"
      ]
    },
    {
      "cell_type": "markdown",
      "source": [
        "**Problem Description**\n",
        "\n",
        "Write a function that takes a positive number A as an argument and returns the sum of all numbers from 1 to A.\n",
        "\n",
        "\n",
        "**Problem Constraints**\n",
        "\n",
        "1 <= A <= 109"
      ],
      "metadata": {
        "id": "R2Uo_K-BxaKx"
      }
    },
    {
      "cell_type": "code",
      "execution_count": 17,
      "metadata": {
        "colab": {
          "base_uri": "https://localhost:8080/"
        },
        "id": "Rurl9BlmxQdj",
        "outputId": "88786e4e-12e0-4a77-d709-e5065887650b"
      },
      "outputs": [
        {
          "output_type": "stream",
          "name": "stdout",
          "text": [
            "Enter your number:2\n",
            "3\n"
          ]
        }
      ],
      "source": [
        "def sum_num(A):\n",
        "  if A>0:\n",
        "      result=(A*(A+1))//2\n",
        "      print(result)\n",
        "\n",
        "A=int(input(\"Enter your number:\"))\n",
        "sum_num(A)\n",
        ""
      ]
    },
    {
      "cell_type": "code",
      "source": [],
      "metadata": {
        "id": "AX54rHpyzl8C"
      },
      "execution_count": null,
      "outputs": []
    }
  ]
}
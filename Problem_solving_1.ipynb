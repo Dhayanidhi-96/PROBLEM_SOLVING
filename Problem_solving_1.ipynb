{
  "nbformat": 4,
  "nbformat_minor": 0,
  "metadata": {
    "colab": {
      "provenance": [],
      "authorship_tag": "ABX9TyP0KNJRJC0d637LhkntlLCV",
      "include_colab_link": true
    },
    "kernelspec": {
      "name": "python3",
      "display_name": "Python 3"
    },
    "language_info": {
      "name": "python"
    }
  },
  "cells": [
    {
      "cell_type": "markdown",
      "metadata": {
        "id": "view-in-github",
        "colab_type": "text"
      },
      "source": [
        "<a href=\"https://colab.research.google.com/github/Dhayanidhi-96/PROBLEM_SOLVING/blob/main/Problem_solving_1.ipynb\" target=\"_parent\"><img src=\"https://colab.research.google.com/assets/colab-badge.svg\" alt=\"Open In Colab\"/></a>"
      ]
    },
    {
      "cell_type": "markdown",
      "source": [
        "#Problem Description\n",
        "\n",
        "You are given an integer A, you need to find and return the sum of all the even numbers between 1 and A.\n",
        "\n",
        "Even numbers are those numbers that are divisible by 2 .\n",
        "\n",
        "\n",
        "\n",
        "**Problem Constraints**\n",
        "\n",
        "1 <= N <= 500\n",
        "\n"
      ],
      "metadata": {
        "id": "nZ-mxhUPooKK"
      }
    },
    {
      "cell_type": "code",
      "execution_count": 6,
      "metadata": {
        "colab": {
          "base_uri": "https://localhost:8080/"
        },
        "id": "s9oQmgAbnOuF",
        "outputId": "17f09b62-a2ce-467d-d5c1-64c042faf3e2"
      },
      "outputs": [
        {
          "output_type": "stream",
          "name": "stdout",
          "text": [
            "Enter your number within the limit 500 : 600\n",
            "The given number is above 500\n"
          ]
        }
      ],
      "source": [
        "A = int(input(\"Enter your number within the limit 500 : \"))\n",
        "def even_suming(A):\n",
        "\n",
        "  even_sum = 0\n",
        "  if A <= 500:\n",
        "    for A in range(A+1):\n",
        "      if A%2 == 0:\n",
        "        even_sum = even_sum +  A\n",
        "        print(\"The sum of even numbers is :\",even_sum)\n",
        "  else :\n",
        "    print(\"The given number is above 500\")\n",
        "\n",
        "\n",
        "even_suming(A)"
      ]
    },
    {
      "cell_type": "code",
      "source": [],
      "metadata": {
        "id": "Iztial-zoIpj"
      },
      "execution_count": null,
      "outputs": []
    }
  ]
}
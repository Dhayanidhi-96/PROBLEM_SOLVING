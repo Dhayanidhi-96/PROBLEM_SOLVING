{
  "nbformat": 4,
  "nbformat_minor": 0,
  "metadata": {
    "colab": {
      "provenance": [],
      "authorship_tag": "ABX9TyObYJXXF1bG8kLiuDAN9YgS",
      "include_colab_link": true
    },
    "kernelspec": {
      "name": "python3",
      "display_name": "Python 3"
    },
    "language_info": {
      "name": "python"
    }
  },
  "cells": [
    {
      "cell_type": "markdown",
      "metadata": {
        "id": "view-in-github",
        "colab_type": "text"
      },
      "source": [
        "<a href=\"https://colab.research.google.com/github/Dhayanidhi-96/PROBLEM_SOLVING/blob/main/divisible_by_2_numbers.ipynb\" target=\"_parent\"><img src=\"https://colab.research.google.com/assets/colab-badge.svg\" alt=\"Open In Colab\"/></a>"
      ]
    },
    {
      "cell_type": "markdown",
      "source": [
        "**Problem Description**\n",
        "\n",
        "Take an integer A as input. You have to tell whether A is divisible by both 5 and 11 or not.\n",
        "\n",
        "**Problem Constraints**\n",
        "\n",
        "1 ≤ A ≤ 10⁹"
      ],
      "metadata": {
        "id": "dK8x83Smk-Rq"
      }
    },
    {
      "cell_type": "code",
      "execution_count": 5,
      "metadata": {
        "colab": {
          "base_uri": "https://localhost:8080/"
        },
        "id": "kgcogcMhk6QA",
        "outputId": "9cc0da50-7021-4c2b-dbab-ce5793e179b3"
      },
      "outputs": [
        {
          "output_type": "stream",
          "name": "stdout",
          "text": [
            "Enter your inter ger value to chect it is divisible by both 5 and 11 :20\n",
            "Its not divisible by 5 and 11\n"
          ]
        }
      ],
      "source": [
        "A = int(input(\"Enter your inter ger value to chect it is divisible by both 5 and 11 :\"))\n",
        "if A%5==0 and A%11==0:\n",
        "  print(\"Its divisible by both 5 and 11 \")\n",
        "else:\n",
        "  print(\"Its not divisible by both 5 and 11\")"
      ]
    },
    {
      "cell_type": "code",
      "source": [],
      "metadata": {
        "id": "011ToeJElpQH"
      },
      "execution_count": null,
      "outputs": []
    }
  ]
}
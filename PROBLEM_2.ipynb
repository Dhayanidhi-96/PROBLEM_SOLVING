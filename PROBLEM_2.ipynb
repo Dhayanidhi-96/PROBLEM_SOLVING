{
  "nbformat": 4,
  "nbformat_minor": 0,
  "metadata": {
    "colab": {
      "provenance": [],
      "authorship_tag": "ABX9TyPi5jbgT118jl6M4AGkJ/v9",
      "include_colab_link": true
    },
    "kernelspec": {
      "name": "python3",
      "display_name": "Python 3"
    },
    "language_info": {
      "name": "python"
    }
  },
  "cells": [
    {
      "cell_type": "markdown",
      "metadata": {
        "id": "view-in-github",
        "colab_type": "text"
      },
      "source": [
        "<a href=\"https://colab.research.google.com/github/Dhayanidhi-96/PROBLEM_SOLVING/blob/main/PROBLEM_2.ipynb\" target=\"_parent\"><img src=\"https://colab.research.google.com/assets/colab-badge.svg\" alt=\"Open In Colab\"/></a>"
      ]
    },
    {
      "cell_type": "markdown",
      "source": [
        "You are given an integer A.\n",
        "\n",
        "You have to determine how many days are there in the month denoted by A in a non-leap year.\n",
        "\n",
        "**Months are denoted as follows:**\n",
        "\n",
        "January: 1\n",
        "\n",
        "February: 2\n",
        "\n",
        "March: 3\n",
        "\n",
        "April: 4\n",
        "\n",
        "May: 5\n",
        "\n",
        "June: 6\n",
        "\n",
        "July: 7\n",
        "\n",
        "August: 8\n",
        "\n",
        "September: 9\n",
        "\n",
        "October: 10\n",
        "\n",
        "November: 11\n",
        "\n",
        "December: 12\n",
        "\n",
        "**Problem Constraints**\n",
        "1 <= A <= 12"
      ],
      "metadata": {
        "id": "Yu515hKX7YMf"
      }
    },
    {
      "cell_type": "code",
      "execution_count": 21,
      "metadata": {
        "colab": {
          "base_uri": "https://localhost:8080/",
          "height": 53
        },
        "id": "Sbo9gK2yjsDw",
        "outputId": "2949a6eb-db1a-46e1-dd86-4422c3cd2297"
      },
      "outputs": [
        {
          "name": "stdout",
          "output_type": "stream",
          "text": [
            "Enter your Month in numerical type(1-12) : 5\n"
          ]
        },
        {
          "output_type": "execute_result",
          "data": {
            "text/plain": [
              "'There are 31 Days'"
            ],
            "application/vnd.google.colaboratory.intrinsic+json": {
              "type": "string"
            }
          },
          "metadata": {},
          "execution_count": 21
        }
      ],
      "source": [
        "A = int(input(\"Enter your Month in numerical type(1-12) : \"))\n",
        "def no_of_days(A):\n",
        "    if A in [1,3,5,7,8,10,12]:\n",
        "      return (\"There are 31 Days\")\n",
        "    elif A in [4,6,9,11,]:\n",
        "      return (\"There are 30 Days \")\n",
        "    elif A == 2:\n",
        "      return (\"There are 28 Days\")\n",
        "    else:\n",
        "      print(\"Entered Month is invalid\")\n",
        "\n",
        "no_of_days(A)"
      ]
    },
    {
      "cell_type": "code",
      "source": [],
      "metadata": {
        "id": "hygl0_Ck_lFq"
      },
      "execution_count": null,
      "outputs": []
    }
  ]
}
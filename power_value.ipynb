{
  "nbformat": 4,
  "nbformat_minor": 0,
  "metadata": {
    "colab": {
      "provenance": [],
      "authorship_tag": "ABX9TyPAnDXKnGEaCauURjIHZI1C",
      "include_colab_link": true
    },
    "kernelspec": {
      "name": "python3",
      "display_name": "Python 3"
    },
    "language_info": {
      "name": "python"
    }
  },
  "cells": [
    {
      "cell_type": "markdown",
      "metadata": {
        "id": "view-in-github",
        "colab_type": "text"
      },
      "source": [
        "<a href=\"https://colab.research.google.com/github/Dhayanidhi-96/PROBLEM_SOLVING/blob/main/power_value.ipynb\" target=\"_parent\"><img src=\"https://colab.research.google.com/assets/colab-badge.svg\" alt=\"Open In Colab\"/></a>"
      ]
    },
    {
      "cell_type": "markdown",
      "source": [
        "**Problem Description:**\n",
        "\n",
        "You are given two integers A and B. You have to find the value of A raised to the power B.\n",
        "\n",
        "NOTE: The value of A raised to the power B will always be less than or equal to 10^9.\n",
        "\n",
        "Problem Constraints:\n",
        "\n",
        "1 <= A, B <= 1000"
      ],
      "metadata": {
        "id": "5ZkZdgwgrZ74"
      }
    },
    {
      "cell_type": "code",
      "execution_count": 1,
      "metadata": {
        "colab": {
          "base_uri": "https://localhost:8080/"
        },
        "id": "Z3AkNqt6rA7I",
        "outputId": "7282beec-2679-4529-bc5b-56ea936e5728"
      },
      "outputs": [
        {
          "output_type": "stream",
          "name": "stdout",
          "text": [
            "Enter your base value A and power value B :2 2\n",
            "4\n"
          ]
        }
      ],
      "source": [
        "A, B = map(int, input(\"Enter your base value A and power value B :\").split())\n",
        "pow_value = A**B\n",
        "print(pow_value)\n"
      ]
    },
    {
      "cell_type": "code",
      "source": [],
      "metadata": {
        "id": "7NvoJYQ5she-"
      },
      "execution_count": null,
      "outputs": []
    }
  ]
}
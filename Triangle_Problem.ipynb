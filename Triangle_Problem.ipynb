{
  "nbformat": 4,
  "nbformat_minor": 0,
  "metadata": {
    "colab": {
      "provenance": [],
      "authorship_tag": "ABX9TyMjNc6Q4x3pl2V5T0CCXYfu",
      "include_colab_link": true
    },
    "kernelspec": {
      "name": "python3",
      "display_name": "Python 3"
    },
    "language_info": {
      "name": "python"
    }
  },
  "cells": [
    {
      "cell_type": "markdown",
      "metadata": {
        "id": "view-in-github",
        "colab_type": "text"
      },
      "source": [
        "<a href=\"https://colab.research.google.com/github/Dhayanidhi-96/PROBLEM_SOLVING/blob/main/Triangle_Problem.ipynb\" target=\"_parent\"><img src=\"https://colab.research.google.com/assets/colab-badge.svg\" alt=\"Open In Colab\"/></a>"
      ]
    },
    {
      "cell_type": "markdown",
      "source": [
        "**Problem Description**\n",
        "\n",
        "You are given 3 integer angles (in degrees) A, B, and C of a triangle. You have to tell whether the triangle is valid or not.\n",
        "A triangle is valid if the sum of its angles equals 180.\n",
        "\n",
        "**Problem Constraints**\n",
        "\n",
        "1 <= A, B, C <= 180"
      ],
      "metadata": {
        "id": "CaVubdBXII4m"
      }
    },
    {
      "cell_type": "code",
      "execution_count": 8,
      "metadata": {
        "colab": {
          "base_uri": "https://localhost:8080/"
        },
        "id": "4GKP0-sCHxyw",
        "outputId": "1edb93ec-73b8-4892-9975-0de723a47843"
      },
      "outputs": [
        {
          "output_type": "stream",
          "name": "stdout",
          "text": [
            "Enter your angle A,B,C values withb spaces60 60 58\n",
            "The given Triangle is invalid\n"
          ]
        }
      ],
      "source": [
        "A,B,C = map(int,input(\"Enter your angle A,B,C values withb spaces\").split())\n",
        "def triangle(A,B,C):\n",
        "  if A+B+C == 180:\n",
        "    return \"The Triangle is valid\"\n",
        "  else:\n",
        "    return \"The given Triangle is invalid\"\n",
        "result =triangle(A,B,C)\n",
        "print(result)\n"
      ]
    },
    {
      "cell_type": "code",
      "source": [],
      "metadata": {
        "id": "VH2h5TDvJV87"
      },
      "execution_count": null,
      "outputs": []
    }
  ]
}
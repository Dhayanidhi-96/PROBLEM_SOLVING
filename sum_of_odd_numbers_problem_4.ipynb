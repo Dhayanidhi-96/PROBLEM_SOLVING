{
  "nbformat": 4,
  "nbformat_minor": 0,
  "metadata": {
    "colab": {
      "provenance": [],
      "authorship_tag": "ABX9TyNWACfmoMr98kiq1Bum7yk4",
      "include_colab_link": true
    },
    "kernelspec": {
      "name": "python3",
      "display_name": "Python 3"
    },
    "language_info": {
      "name": "python"
    }
  },
  "cells": [
    {
      "cell_type": "markdown",
      "metadata": {
        "id": "view-in-github",
        "colab_type": "text"
      },
      "source": [
        "<a href=\"https://colab.research.google.com/github/Dhayanidhi-96/PROBLEM_SOLVING/blob/main/sum_of_odd_numbers_problem_4.ipynb\" target=\"_parent\"><img src=\"https://colab.research.google.com/assets/colab-badge.svg\" alt=\"Open In Colab\"/></a>"
      ]
    },
    {
      "cell_type": "markdown",
      "source": [
        "**Problem Description**\n",
        "\n",
        "Take an integer A as input. You have to print the sum of all odd numbers in the range [1, A].\n",
        "\n",
        "\n",
        "\n",
        "**Problem Constraints**\n",
        "\n",
        "1 <= A <= 1000"
      ],
      "metadata": {
        "id": "kII2VyYWVFy1"
      }
    },
    {
      "cell_type": "code",
      "source": [
        "def sum_of_odd_numbers(A):\n",
        "  sum=0\n",
        "  for A in range(1,A+1,2):\n",
        "    sum += A\n",
        "  return sum\n",
        "A=int(input(\"Enter your number between [1-1000] : \"))\n",
        "result=sum_of_odd_numbers(A)\n",
        "print(result)"
      ],
      "metadata": {
        "id": "HdZ84MqEWs4u",
        "colab": {
          "base_uri": "https://localhost:8080/"
        },
        "outputId": "0720f343-9f56-4922-d290-2bda4d15537c"
      },
      "execution_count": 12,
      "outputs": [
        {
          "output_type": "stream",
          "name": "stdout",
          "text": [
            "Enter your number between [1-1000] : 5\n",
            "9\n"
          ]
        }
      ]
    },
    {
      "cell_type": "code",
      "source": [],
      "metadata": {
        "id": "uKi0pl-SbRag"
      },
      "execution_count": 14,
      "outputs": []
    },
    {
      "cell_type": "code",
      "source": [],
      "metadata": {
        "id": "0oqJPx-gciN1"
      },
      "execution_count": null,
      "outputs": []
    }
  ]
}
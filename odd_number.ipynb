{
  "nbformat": 4,
  "nbformat_minor": 0,
  "metadata": {
    "colab": {
      "provenance": [],
      "authorship_tag": "ABX9TyNYzeK85zOVcgiVHCqYSgXr",
      "include_colab_link": true
    },
    "kernelspec": {
      "name": "python3",
      "display_name": "Python 3"
    },
    "language_info": {
      "name": "python"
    }
  },
  "cells": [
    {
      "cell_type": "markdown",
      "metadata": {
        "id": "view-in-github",
        "colab_type": "text"
      },
      "source": [
        "<a href=\"https://colab.research.google.com/github/Dhayanidhi-96/PROBLEM_SOLVING/blob/main/odd_number.ipynb\" target=\"_parent\"><img src=\"https://colab.research.google.com/assets/colab-badge.svg\" alt=\"Open In Colab\"/></a>"
      ]
    },
    {
      "cell_type": "markdown",
      "source": [
        "**Problem Description**\n",
        "\n",
        "Write a program to print all odd numbers from 1 to N where you have to take N as input from the user. Here N is inclusive.\n",
        "\n",
        "**Problem Constraints**\n",
        "\n",
        "1 ≤ N ≤ 2,000,000"
      ],
      "metadata": {
        "id": "b3zAWh_yvksX"
      }
    },
    {
      "cell_type": "code",
      "execution_count": 13,
      "metadata": {
        "colab": {
          "base_uri": "https://localhost:8080/"
        },
        "id": "aCmwNbm4sLqM",
        "outputId": "215a25c4-cbf5-4546-b585-e0f482bf7357"
      },
      "outputs": [
        {
          "output_type": "stream",
          "name": "stdout",
          "text": [
            "Enter your limit value N :5\n",
            "[1, 3, 5]\n"
          ]
        }
      ],
      "source": [
        "N =int(input(\"Enter your limit value N :\"))\n",
        "odd_num = [i for i in range(1,N+1,2)]\n",
        "print(odd_num)"
      ]
    },
    {
      "cell_type": "code",
      "source": [],
      "metadata": {
        "id": "pLUGB1vTsSq-"
      },
      "execution_count": null,
      "outputs": []
    }
  ]
}
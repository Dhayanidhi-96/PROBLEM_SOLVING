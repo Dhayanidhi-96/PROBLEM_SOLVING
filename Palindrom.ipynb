{
  "nbformat": 4,
  "nbformat_minor": 0,
  "metadata": {
    "colab": {
      "provenance": [],
      "authorship_tag": "ABX9TyNoSPcMrH+4EelcGdqveL3S",
      "include_colab_link": true
    },
    "kernelspec": {
      "name": "python3",
      "display_name": "Python 3"
    },
    "language_info": {
      "name": "python"
    }
  },
  "cells": [
    {
      "cell_type": "markdown",
      "metadata": {
        "id": "view-in-github",
        "colab_type": "text"
      },
      "source": [
        "<a href=\"https://colab.research.google.com/github/Dhayanidhi-96/PROBLEM_SOLVING/blob/main/Palindrom.ipynb\" target=\"_parent\"><img src=\"https://colab.research.google.com/assets/colab-badge.svg\" alt=\"Open In Colab\"/></a>"
      ]
    },
    {
      "cell_type": "markdown",
      "source": [
        "**Problem Description:**\n",
        "Take an integer\n",
        "𝐴\n",
        "A as input, determine whether it is palindromic or not.\n",
        "\n",
        "A palindrome integer is an integer\n",
        "𝑋\n",
        "X for which reverse(X) = X, where reverse(X) is\n",
        "𝑋\n",
        "X with its digits reversed. For example, reverse(123) = 321.\n",
        "\n",
        "Note: There will be no zeros at the start of a number.\n",
        "\n",
        "Problem Constraints:\n",
        "1 ≤\n",
        "𝐴\n",
        "A ≤\n",
        "1\n",
        "0\n",
        "6\n",
        "10\n",
        "6"
      ],
      "metadata": {
        "id": "pfC2yOponFRH"
      }
    },
    {
      "cell_type": "code",
      "execution_count": 3,
      "metadata": {
        "colab": {
          "base_uri": "https://localhost:8080/"
        },
        "id": "9IWgU8aCnCGd",
        "outputId": "b669ca45-b763-4079-9a58-0fe56521f11d"
      },
      "outputs": [
        {
          "output_type": "stream",
          "name": "stdout",
          "text": [
            "Enter your input to check it as palindrom or not : 555\n",
            "Yes its a Palindrom\n"
          ]
        }
      ],
      "source": [
        "def palindrom(A):\n",
        "  str_A=str(A)\n",
        "  if str_A==str_A[::-1]:\n",
        "    return \"Yes its a Palindrom\"\n",
        "  else:\n",
        "    return \"No its not Palindrom\"\n",
        "A=int(input(\"Enter your input to check it as palindrom or not : \"))\n",
        "print(palindrom(A))"
      ]
    },
    {
      "cell_type": "code",
      "source": [],
      "metadata": {
        "id": "K4FgsS--pClG"
      },
      "execution_count": null,
      "outputs": []
    }
  ]
}
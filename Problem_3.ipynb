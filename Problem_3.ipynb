{
  "nbformat": 4,
  "nbformat_minor": 0,
  "metadata": {
    "colab": {
      "provenance": [],
      "authorship_tag": "ABX9TyOnlKs5a0AEpgcTx4Nt/l52",
      "include_colab_link": true
    },
    "kernelspec": {
      "name": "python3",
      "display_name": "Python 3"
    },
    "language_info": {
      "name": "python"
    }
  },
  "cells": [
    {
      "cell_type": "markdown",
      "metadata": {
        "id": "view-in-github",
        "colab_type": "text"
      },
      "source": [
        "<a href=\"https://colab.research.google.com/github/Dhayanidhi-96/PROBLEM_SOLVING/blob/main/Problem_3.ipynb\" target=\"_parent\"><img src=\"https://colab.research.google.com/assets/colab-badge.svg\" alt=\"Open In Colab\"/></a>"
      ]
    },
    {
      "cell_type": "markdown",
      "source": [
        "#**Problem Description**\n",
        "Write a program to print all natural numbers from\n",
        "N to 1, where\n",
        "N is taken as input from the user.\n",
        "\n",
        "**Problem Constraints**\n",
        "\n",
        "1 <= N <= 10,000,000"
      ],
      "metadata": {
        "id": "KhSqxnlFDo6q"
      }
    },
    {
      "cell_type": "code",
      "execution_count": 14,
      "metadata": {
        "colab": {
          "base_uri": "https://localhost:8080/"
        },
        "id": "GMxZUX5YC9w8",
        "outputId": "e80b6bc7-0d2f-467f-c8f3-6ea81d39dbe4"
      },
      "outputs": [
        {
          "output_type": "stream",
          "name": "stdout",
          "text": [
            "Enter your number :5\n",
            "[5, 4, 3, 2, 1]\n"
          ]
        }
      ],
      "source": [
        "def print_n_to_1(N):\n",
        "  if N <= 10000000:\n",
        "    return list(range(N,0,-1))\n",
        "N = int(input(\"Enter your number :\"))\n",
        "result = print_n_to_1(N)\n",
        "print(result)\n",
        "\n",
        ""
      ]
    },
    {
      "cell_type": "markdown",
      "source": [
        "### To print from 1 to N"
      ],
      "metadata": {
        "id": "Xtnm9toeLD-s"
      }
    },
    {
      "cell_type": "code",
      "source": [
        "def print_n_to_1(N):\n",
        "  if N <= 10000000:\n",
        "    return list(range(1,N+1,1))\n",
        "N = int(input(\"Enter your number :\"))\n",
        "result = print_n_to_1(N)\n",
        "print(result)"
      ],
      "metadata": {
        "colab": {
          "base_uri": "https://localhost:8080/"
        },
        "id": "tCV6xTr4G6Hq",
        "outputId": "3590a8ad-555c-455e-ccfb-06de8b219a44"
      },
      "execution_count": 13,
      "outputs": [
        {
          "output_type": "stream",
          "name": "stdout",
          "text": [
            "Enter your number :5\n",
            "[1, 2, 3, 4, 5]\n"
          ]
        }
      ]
    }
  ]
}
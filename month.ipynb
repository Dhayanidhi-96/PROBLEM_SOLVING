{
  "nbformat": 4,
  "nbformat_minor": 0,
  "metadata": {
    "colab": {
      "provenance": [],
      "authorship_tag": "ABX9TyNe2R9nR8RP1ALP9QQvxHKb",
      "include_colab_link": true
    },
    "kernelspec": {
      "name": "python3",
      "display_name": "Python 3"
    },
    "language_info": {
      "name": "python"
    }
  },
  "cells": [
    {
      "cell_type": "markdown",
      "metadata": {
        "id": "view-in-github",
        "colab_type": "text"
      },
      "source": [
        "<a href=\"https://colab.research.google.com/github/Dhayanidhi-96/PROBLEM_SOLVING/blob/main/month.ipynb\" target=\"_parent\"><img src=\"https://colab.research.google.com/assets/colab-badge.svg\" alt=\"Open In Colab\"/></a>"
      ]
    },
    {
      "cell_type": "markdown",
      "source": [
        "**Question:**\n",
        "\n",
        "Write a program to input an integer (A) from the user and print the Ath month of the year.\n",
        "\n",
        "**Months list:** January, February, March, April, May, June, July, August, September, October, November, December"
      ],
      "metadata": {
        "id": "C9iCdgPqfZwm"
      }
    },
    {
      "cell_type": "code",
      "execution_count": null,
      "metadata": {
        "colab": {
          "base_uri": "https://localhost:8080/"
        },
        "id": "m3VoriJRc6_T",
        "outputId": "10f59cf3-d1d8-4d12-cc65-dbf422a5bc47"
      },
      "outputs": [
        {
          "output_type": "stream",
          "name": "stdout",
          "text": [
            "enter your month in numeric to get the month name:6\n",
            "The 6 th month is  June\n"
          ]
        }
      ],
      "source": [
        "month=[\"January\", \"February\", \"March\", \"April\", \"May\", \"June\", \"July\", \"August\", \"September\", \"October\", \"November\", \"December\"]\n",
        "\n",
        "A=int(input(\"enter your month in numeric to get the month name:\"))\n",
        "if 1<=A<=12:\n",
        "    print(\"The\",A,\"th month is \",month[A-1])\n",
        "else :\n",
        "    print(\"Enter the valid month between [1-12]\")\n",
        "\n",
        "\n"
      ]
    },
    {
      "cell_type": "code",
      "source": [],
      "metadata": {
        "id": "a1duTdXHe4vG"
      },
      "execution_count": null,
      "outputs": []
    },
    {
      "cell_type": "markdown",
      "source": [],
      "metadata": {
        "id": "hL7yJsmbg_6Z"
      }
    }
  ]
}